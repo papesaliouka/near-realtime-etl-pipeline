{
 "cells": [
  {
   "cell_type": "code",
   "execution_count": 1,
   "id": "7b9b1596",
   "metadata": {},
   "outputs": [],
   "source": [
    "import sys\n",
    "import pandas as ps\n",
    "sys.path.append('../batcher/utils.py')\n",
    "from utils import *\n",
    "import numpy as np"
   ]
  },
  {
   "cell_type": "code",
   "execution_count": 2,
   "id": "420d66af",
   "metadata": {},
   "outputs": [],
   "source": [
    "df = ps.read_csv('/home/pape/Downloads/onas/05/05062021.CSV')\n"
   ]
  },
  {
   "cell_type": "code",
   "execution_count": 3,
   "id": "5c2bae1d",
   "metadata": {},
   "outputs": [],
   "source": [
    "df.columns=header_onas"
   ]
  },
  {
   "cell_type": "code",
   "execution_count": 4,
   "id": "67c3ded9",
   "metadata": {},
   "outputs": [],
   "source": [
    "df = filter_puissance(df)"
   ]
  },
  {
   "cell_type": "code",
   "execution_count": 5,
   "id": "7cbb41ac",
   "metadata": {},
   "outputs": [],
   "source": [
    "df.e_active = df.e_active * -1"
   ]
  },
  {
   "cell_type": "code",
   "execution_count": 6,
   "id": "dd419584",
   "metadata": {},
   "outputs": [
    {
     "data": {
      "text/plain": [
       "0          -149868\n",
       "1          -149868\n",
       "23     -4110418505\n",
       "50     -3489661513\n",
       "53         -149932\n",
       "           ...    \n",
       "1222       -152374\n",
       "1223       -152374\n",
       "1224       -152374\n",
       "1225       -152374\n",
       "1227       -152375\n",
       "Name: e_active, Length: 356, dtype: int64"
      ]
     },
     "execution_count": 6,
     "metadata": {},
     "output_type": "execute_result"
    }
   ],
   "source": [
    "df.e_active"
   ]
  },
  {
   "cell_type": "raw",
   "id": "314e4037",
   "metadata": {},
   "source": [
    "def format_digit(num):\n",
    "    if num <=9:\n",
    "        return '09'\n",
    "    else:\n",
    "        return str(num)"
   ]
  },
  {
   "cell_type": "raw",
   "id": "29fda747",
   "metadata": {},
   "source": [
    "df['jour'] = df['jour'].apply(format_digit)\n",
    "df['mois'] = df['mois'].apply(format_digit)\n",
    "df['heure'] = df['heure'].apply(format_digit)\n",
    "df['minute'] = df['minute'].apply(format_digit)\n",
    "df['seconde'] = df['seconde'].apply(format_digit)"
   ]
  },
  {
   "cell_type": "raw",
   "id": "babb8685",
   "metadata": {},
   "source": [
    "df['annee'] = df['annee'].apply(str)\n",
    "df['mois'] = df['mois'].apply(str)\n",
    "df['jour'] = df['jour'].apply(str)\n",
    "df['heure'] = df['heure'].apply(str)\n",
    "df['minute'] = df['minute'].apply(str)\n",
    "df['seconde'] = df['seconde'].apply(str)"
   ]
  },
  {
   "cell_type": "raw",
   "id": "aa172508",
   "metadata": {},
   "source": [
    "df['datetime'] = df['annee'] + '/' + df['mois'] + '/' + df['jour']+ ' ' + df['heure'] + \":\" + df['minute'] +\":\" + df['seconde']"
   ]
  },
  {
   "cell_type": "code",
   "execution_count": 7,
   "id": "7128c363",
   "metadata": {},
   "outputs": [],
   "source": [
    "df['datetime'] = ps.to_datetime(df.date+\" \" + df.heure)"
   ]
  },
  {
   "cell_type": "code",
   "execution_count": 8,
   "id": "3d941b5e",
   "metadata": {},
   "outputs": [],
   "source": [
    "df.index = df.datetime\n",
    "df.facteur_c = 100"
   ]
  },
  {
   "cell_type": "code",
   "execution_count": 15,
   "id": "8432e22f",
   "metadata": {},
   "outputs": [
    {
     "data": {
      "text/plain": [
       "datetime\n",
       "2021-05-06 00:00:00    11860697368\n",
       "2021-05-06 01:00:00      505828462\n",
       "2021-05-06 02:00:00         150139\n",
       "2021-05-06 03:00:00      690421039\n",
       "2021-05-06 04:00:00     3528852383\n",
       "2021-05-06 05:00:00    28616746271\n",
       "2021-05-06 06:00:00    12637161303\n",
       "2021-05-06 07:00:00    20971524704\n",
       "2021-05-06 08:00:00     4044215430\n",
       "2021-05-06 09:00:00      371665119\n",
       "2021-05-06 10:00:00     3408647284\n",
       "2021-05-06 11:00:00     3473037802\n",
       "2021-05-06 12:00:00     4279249525\n",
       "2021-05-06 13:00:00      825164369\n",
       "2021-05-06 14:00:00      538082876\n",
       "2021-05-06 15:00:00      238002717\n",
       "2021-05-06 16:00:00     2890377662\n",
       "2021-05-06 17:00:00              0\n",
       "2021-05-06 18:00:00              0\n",
       "2021-05-06 19:00:00        5624350\n",
       "2021-05-06 20:00:00         456342\n",
       "2021-05-06 21:00:00        1065428\n",
       "2021-05-06 22:00:00        1676106\n",
       "Freq: H, Name: e_active, dtype: int64"
      ]
     },
     "execution_count": 15,
     "metadata": {},
     "output_type": "execute_result"
    }
   ],
   "source": [
    "def get_energies(df):\n",
    "    df.e_active = df.e_active * -1\n",
    "    energie = df.resample('1H').agg({'e_active':'sum'}).dropna() \n",
    "    energie = energie.e_active * -1\n",
    "    return energie"
   ]
  },
  {
   "cell_type": "code",
   "execution_count": null,
   "id": "257d036a",
   "metadata": {},
   "outputs": [],
   "source": [
    "#df.head(1)"
   ]
  },
  {
   "cell_type": "code",
   "execution_count": null,
   "id": "f17eba40",
   "metadata": {},
   "outputs": [],
   "source": []
  },
  {
   "cell_type": "code",
   "execution_count": null,
   "id": "054e3e7b",
   "metadata": {},
   "outputs": [],
   "source": [
    "#df.last('H')"
   ]
  },
  {
   "cell_type": "code",
   "execution_count": null,
   "id": "2649e132",
   "metadata": {},
   "outputs": [],
   "source": [
    "#conso = df.energie_active_secteur.last('H')- df.energie_active_secteur[0]"
   ]
  },
  {
   "cell_type": "code",
   "execution_count": null,
   "id": "6a8ceae3",
   "metadata": {},
   "outputs": [],
   "source": [
    "#conso"
   ]
  },
  {
   "cell_type": "code",
   "execution_count": null,
   "id": "30bde343",
   "metadata": {},
   "outputs": [],
   "source": [
    "#total = df.energie_active_secteur.aggregate(np.diff)"
   ]
  },
  {
   "cell_type": "code",
   "execution_count": null,
   "id": "5cf114e1",
   "metadata": {},
   "outputs": [],
   "source": [
    "#total"
   ]
  },
  {
   "cell_type": "code",
   "execution_count": null,
   "id": "ca9efb02",
   "metadata": {},
   "outputs": [],
   "source": [
    "eneg = df.e_active.groupby([df.index.hour]).diff().agg(np.sum)"
   ]
  },
  {
   "cell_type": "code",
   "execution_count": null,
   "id": "72f5102f",
   "metadata": {},
   "outputs": [],
   "source": [
    "eneg"
   ]
  },
  {
   "cell_type": "code",
   "execution_count": null,
   "id": "049489ac",
   "metadata": {},
   "outputs": [],
   "source": [
    "def calcul_montant(df,energie,heure):\n",
    "    code = df.code[0]\n",
    "    tarif_1er_tranche = df.tarif_1er_tranche[0]\n",
    "    tarif_2eme_tranche = df.tarif_2eme_tranche[0]\n",
    "    tarif_3eme_tranche = df.tarif_3eme_tranche[0]\n",
    "    tarif_heure_pleine = df.tarif_heure_pleine[0]\n",
    "    tarif_heure_creuse = df.tarif_heure_creuse[0]\n",
    "    max_1er_tranche = df.max_1er_tranche[0]\n",
    "    max_2eme_tranche = df.max_2eme_tranche[0]\n",
    "    facteur_c = df.facteur_c[0]\n",
    "    id_compteur = df.id_compteur[0]\n",
    "    if code == 'GP':\n",
    "        if (heure >=19) & (heure<=23):\n",
    "            montant = energie /facteur_c * tarif_heure_pleine\n",
    "            return montant\n",
    "        else:\n",
    "            montant  = energie /facteur_c * tarif_heure_creuse\n",
    "            return montant\n",
    "    else:\n",
    "        # get redis energie we will call it conso_redis\n",
    "        conso_redis = redis.get(id_compteur)\n",
    "        conso_total_mois_en_cours = conso_redis + energie\n",
    "        if conso_total_mois_en_cours < max_1er_tranche:\n",
    "            montant = energie /facteur_c * tarif_1er_tranche\n",
    "            return montant\n",
    "        elif (conso_total_mois_en_cours >=max_1er_tranche) & (conso_total_mois_en_cours<=max_2eme_tranche):\n",
    "            montant = energie /facteur_c * tarif_2eme_tranche\n",
    "            return montant\n",
    "        else:\n",
    "            montant = energie/facteur_c*tarif_3eme_tranche\n",
    "            return montant\n",
    "        \n",
    "            \n",
    "        \n",
    "    "
   ]
  },
  {
   "cell_type": "code",
   "execution_count": null,
   "id": "8b3bfe8b",
   "metadata": {},
   "outputs": [],
   "source": [
    "def make_stats(df):\n",
    "    df.intensite_moyen = df.intensite.aggregate(np.mean)\n",
    "    df.intensite_max = df.intensite.aggregate(np.max)\n",
    "    df.intensite_min = df.intensite.aggregate(np.min)\n",
    "    df.tension_moyen = df.ul1.aggregate(np.min)\n",
    "    df.tension_min = df.ul1.aggregate(np.min)\n",
    "    df.tension_max = df.ul1.aggregate(np.max)\n",
    "    df.puissance_maxi= df.p_1.aggregate(np.max)\n",
    "    df.puissance_min = df.p_1.aggregate(np.min)\n",
    "    df.puissance_moyen = df.p_1.aggregate(np.mean)\n",
    "    # use the resample method \n",
    "    \n",
    "    "
   ]
  },
  {
   "cell_type": "code",
   "execution_count": null,
   "id": "15dc7a86",
   "metadata": {},
   "outputs": [],
   "source": []
  },
  {
   "cell_type": "code",
   "execution_count": null,
   "id": "0101f290",
   "metadata": {},
   "outputs": [],
   "source": []
  }
 ],
 "metadata": {
  "kernelspec": {
   "display_name": "Python 3 (ipykernel)",
   "language": "python",
   "name": "python3"
  },
  "language_info": {
   "codemirror_mode": {
    "name": "ipython",
    "version": 3
   },
   "file_extension": ".py",
   "mimetype": "text/x-python",
   "name": "python",
   "nbconvert_exporter": "python",
   "pygments_lexer": "ipython3",
   "version": "3.9.12"
  }
 },
 "nbformat": 4,
 "nbformat_minor": 5
}
